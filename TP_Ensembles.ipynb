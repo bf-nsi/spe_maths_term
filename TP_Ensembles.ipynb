{
 "cells": [
  {
   "cell_type": "markdown",
   "metadata": {},
   "source": [
    "---\n",
    "# TP : Ensembles, k-uplets et permutations\n",
    "---\n",
    "Dans ce TP, nous allons représenter les ensembles à l'aide de liste Python, et programmer différentes opérations sur ces objets.\n",
    "Il pourra vous être utile de vous référer régulièrement à la documentation suivante sur les listes :   \n",
    "\n",
    "https://python.doctor/page-apprendre-listes-list-tableaux-tableaux-liste-array-python-cours-debutant\n",
    "\n",
    "![Liste](https://enacit.epfl.ch/cours/python/introduction/fig/liste.png \"listes\")"
   ]
  },
  {
   "cell_type": "markdown",
   "metadata": {},
   "source": [
    "## I. Représentation des ensembles avec des listes python.\n",
    "La liste python est une structure qui permet de représenter aisément les ensembles, à cela prêt qu'un ensemble ne peut contenir deux fois le même élément. Le fait que les listes python permettent de créer des collections d'objets de différents types va nous permettre de définir des ensembles de différentes natures.   \n",
    "L'ensemble vide sera représenté par la liste vide [ ]\n",
    "  \n",
    "### Exercice 1\n",
    "Pour créer et garantir l'intégrité de nos ensembles, on définit les deux fonctions suivantes :\n",
    "- $estEnsemble(L)$ qui renvoie True si L est une liste correspondant à un ensemble (c'est à dire, qui ne comporte pas de doublon), False sinon\n",
    "- $ensemble(L)$ qui renvoie la liste L sous forme d'ensemble (sans doublon).\n",
    "\n",
    "**Remarque :**\n",
    "- La fonction $estEnsemble$ renvoie un booléen (type bool python), à savoir Vrai (True) ou Faux (False).\n",
    "- Comme dans l'ensemble de ce TP, nous ne modifierons pas directement les listes passées en paramètres, mais nous renverrons en résultat une liste (autre) présentant les modifications demandées.\n",
    "\n",
    "**Boîte à outils :** Voici quelques outils sur les listes que vous pourrez utilsez pour programmer ces fonctions :   \n",
    "- $L[i]$ renvoie le i-ème élément de la liste L (les indices commencent à 0)\n",
    "- $Len(L)$ renvoie le nombre d'éléments de la liste L.\n",
    "- $L.count(x)$ renvoie le nombre d'occurences de l'élément $x$ dans la liste $L$\n",
    "\n",
    "N'hésitez pas à effectuer des tests dans la cellule ci-dessous à partir de listes de votre composition.\n"
   ]
  },
  {
   "cell_type": "code",
   "execution_count": null,
   "metadata": {},
   "outputs": [],
   "source": [
    "def estEnsemble(L:list)->bool:\n",
    "    \"\"\"\n",
    "    Renvoie Vrai si L est une liste correspondant à un ensemble (c'est à dire, qui ne comporte pas de doublon), Faux sinon\n",
    "    \"\"\"\n",
    "    #Votre code ici\n",
    "    \n",
    "def ensemble(L:list)->list:\n",
    "    \"\"\"\n",
    "    renvoie la liste L sous forme d'ensemble (sans doublon).\n",
    "    \"\"\"\n",
    "    #Votre code ici"
   ]
  },
  {
   "cell_type": "markdown",
   "metadata": {},
   "source": [
    "### Exercice 2   \n",
    "\n",
    "Nous allons définir quelques méthodes de bases sur ces ensembles:\n",
    "- $card(E)$ qui renvoie le cardinal de l'ensemble $E$\n",
    "- $supprime(E,x)$ qui renvoie une liste correspondant à $E$ sans l'élément $x$\n",
    "- $ajout(E,x)$ qui renvoie l'ensemble $E\\cup\\{x\\}$  \n",
    "\n",
    "On définit également trois ensembles $A$,$B$ et $C$ pour effectuer des tests.\n",
    "\n",
    "**Remarques :** \n",
    "- Comme vous pouvez le voir dans la cellule de code, nous utilisons une assertion python pour vérifier que la liste fournie en paramètre de la fonction définit bien un ensemble, à l'aide de la fonction $estEnsemble$ codée dans l'exercice précédent.\n",
    "- Pour plus de clarté, on peut renseigner la spécification des fonctions python. Cependant, nous ne \"typons\" pas les arguments $x$ pour pouvoir réaliser des ensembles de natures variées.  \n",
    "\n",
    "**Boîte à outils :**\n",
    "- $L.append(x)$ permet d'ajouter l'élément $x$ en fin de liste $L$.\n",
    "- $L.remove(x)$ permet de supprimer l'élément $x$ de la liste $L$.\n",
    "- $x$ in $L$ permet de tester l'appartenance d'un élément $x$ à la liste $L$ "
   ]
  },
  {
   "cell_type": "code",
   "execution_count": null,
   "metadata": {},
   "outputs": [],
   "source": [
    "A=[1,15,16,84,17,5,3,25,27,35,38]\n",
    "B=[15,28,67,44,17]\n",
    "C=[1,15,16,34,12,100]\n",
    "\n",
    "def card(E:list)->int:\n",
    "    \"\"\"\n",
    "    Renvoie le cardinal de l'ensemble E\n",
    "    \"\"\"\n",
    "    assert estEnsemble(E), \"Erreur : E n'est pas un ensemble\"\n",
    "    #Votre code ici\n",
    "    \n",
    "\n",
    "def supprime(E:list,x)->list:\n",
    "    \"\"\"\n",
    "    Renvoie l'ensemble E sans l'élément si x appartient à E, E sinon.\n",
    "    \"\"\"\n",
    "    assert estEnsemble(E), \"Erreur : E n'est pas un ensemble\"\n",
    "    #Votre code ici\n",
    "    \n",
    "    \n",
    "def ajout(E:list,x)->list:\n",
    "    \"\"\"\n",
    "    Renvoie l'ensemble E U {x}\n",
    "    \"\"\"\n",
    "    assert estEnsemble(E), \"Erreur : E n'est pas un ensemble\"\n",
    "    #Votre code ici"
   ]
  },
  {
   "cell_type": "markdown",
   "metadata": {},
   "source": [
    "## II. Opérations sur les ensembles.\n",
    "\n",
    "Nous allons maintenant définir les opérations classiques sur les ensembles telles que l'union, l'intersection et la différence.  \n",
    "  \n",
    "    \n",
    "![Liste](https://upload.wikimedia.org/wikipedia/commons/thumb/9/99/Venn_diagram_for_A_union_B.svg/330px-Venn_diagram_for_A_union_B.svg.png \"ensembles\")\n",
    "\n",
    "### Exercice 3 :\n",
    "Coder dans la cellule de code suivante les fonctions:\n",
    "- $union(A,B)$: Renvoie la réunion des ensembles A et B.\n",
    "- $inter(A,B)$: Renvoie l'intersection des ensembles A et B.\n",
    "- $difference(A,B)$: Renvoie la différence $A$ \\ $B$.\n",
    "\n",
    "**Remarques :** \n",
    "- On verifiera, comme pour les fonctions précédentes, que les listes passées en paramètres sont bien des ensembles.\n",
    "- On pourra utiliser les méthodes codées dans l'exercice précédent pour ajouter ou supprimer des éléments.\n",
    "\n",
    "**Boîte à outils :**\n",
    "$L_1+L_2$ permet de concaténer (\"coller\") les listes $L_1$ et $L_2$.\n"
   ]
  },
  {
   "cell_type": "code",
   "execution_count": null,
   "metadata": {},
   "outputs": [],
   "source": [
    "#Votre code ici"
   ]
  },
  {
   "cell_type": "markdown",
   "metadata": {},
   "source": [
    "### Exercice 4\n",
    "Déterminer à l'aide des fonctions programmées précedemment les ensembles $A \\cup B, A\\cap B,A$ \\ $B,A\\cup B \\cup C, A \\cap B \\cap C$."
   ]
  },
  {
   "cell_type": "code",
   "execution_count": null,
   "metadata": {},
   "outputs": [],
   "source": [
    "#Votre code ici"
   ]
  },
  {
   "cell_type": "markdown",
   "metadata": {},
   "source": [
    "### Exercice 5 : Vérifions quelques propriétés.\n",
    "A partir des ensembles crées précédemment, vérifier les propriétés suivantes , que l'on a déjà pu rencontrer en classe:\n",
    "- $A \\cup B = A \\cup (B$ \\ $A$)\n",
    "- $(A \\cup B) \\cap C = (A\\cap C)\\cup (B\\cap C)$\n",
    "- $card(A \\cup B \\cup C)=card(A)+card(B)+card(C)-card(A \\cap B)- card(A \\cap C)- card(B \\cap C)+ card(A\\cap B \\cap C)$"
   ]
  },
  {
   "cell_type": "code",
   "execution_count": null,
   "metadata": {},
   "outputs": [],
   "source": [
    "# Votre code ici"
   ]
  },
  {
   "cell_type": "markdown",
   "metadata": {},
   "source": [
    "## III. k-uplets, k-arrangements et permutations.\n",
    "Nous allons maintenant définir le produit cartésien d'ensembles. Leurs éléments, les k-uplets, seront représentés à l'aide d'un type ressemblant fortement au liste en python : les tuples.     \n",
    "**Exemple :** Voici un liste [1,2], et un tuple : (1,2).  \n",
    "La syntaxe et les méthodes sont très proches de celles des listes, mais attention, un tuple n'est pas modifiable (ce qui est adapté pour notre usage ici)\n",
    "Voici une documentation sur les tuples python : https://python.doctor/page-apprendre-tuples-tuple-python\n",
    "\n",
    "Pour calculer le produit cartésien d'ensembles, nous utilserons la fonction $produit$ codée ci-dessous.    \n",
    "**Remarque :** Nous avons, pour des ensembles $A$,$B$ et $C$:    \n",
    "$(A \\times B)\\times C \\neq A \\times (B \\times C)$ (car pour $a \\in A, b \\in B, c \\in C$, on a :$((a,b),c) \\neq (a,(b,c))$.  \n",
    "  \n",
    "Cependant, nous identifierons ces ensembles à $A \\times B \\times C$ pour créer plus facilement des triplets. Si on peut accepter facilement cet \"abus\" de notation, il est plus difficile d'assurer une cohérence en programmation.  \n",
    "Ainsi, dans l'algorithme ci-dessous, nous transformons les ensembles de dimension 1 en des ensembles de 1-uplets, ce qui nous permettra de créer plus facilement par la suite des ensembles de k-uplets.   \n",
    "En effet, pour construire l'ensemble $A \\times B \\times C$, nous pourrons exécuter $prod(prod(A,B),C)$ ou $prod(A,prod(B,C))$"
   ]
  },
  {
   "cell_type": "code",
   "execution_count": 2,
   "metadata": {},
   "outputs": [],
   "source": [
    "def produit(E:list,F:list)->list:\n",
    "    \"\"\"\n",
    "    renvoie le produit cartésien E*F\n",
    "    \"\"\"\n",
    "    assert estEnsemble(E) and estEnsemble(F),\"Erreur : Les paramètres doivent être des ensembles\" \n",
    "    Ens1=[] \n",
    "    Ens2=[]\n",
    "    res=[] # Resultat\n",
    "    \n",
    "    # Si E ou F est vide, E*F est l'ensemble vide\n",
    "    if (E==[]) or (F==[]): \n",
    "        return []\n",
    "    \n",
    "    # Permet de tester si les éléments de E sont des k-uplets (on se contentera ici du premier element)\n",
    "    if isinstance(E[0],tuple): \n",
    "        Ens1=E\n",
    "    else :\n",
    "        for elem in E :\n",
    "            Ens1.append((elem,)) # On creer des 1-uplets (syntaxe specifique)\n",
    "    \n",
    "    # Même traitement pour F\n",
    "    if isinstance(F[0],tuple): \n",
    "        Ens2=F\n",
    "    else :\n",
    "        for elem in F :\n",
    "            Ens2.append((elem,))\n",
    "    \n",
    "    # Construction de E*F\n",
    "    for e in Ens1 :\n",
    "        for f in Ens2 :\n",
    "            res.append(e+f) # On concatene les tuples et on ajoute au resultat.\n",
    "    return res"
   ]
  },
  {
   "cell_type": "markdown",
   "metadata": {},
   "source": [
    "### Exercice 6 : Drôles d'animaux ...\n",
    "On considère les ensembles $E_1=\\{petit,grand\\}, E_2=\\{loup,chat,cheval\\}, E_3=\\{blanc,noir,rouge,vert\\}$   \n",
    "1) Créer l'ensemble $E_1 \\times E_2$. Combien d'animaux différents avez-vous crée?   \n",
    "2) Créer l'ensemble $E_1 \\times E_2 \\times E_3$. Combien d'animaux différents avez-vous crée?\n"
   ]
  },
  {
   "cell_type": "code",
   "execution_count": null,
   "metadata": {},
   "outputs": [],
   "source": [
    "# Votre code ici"
   ]
  },
  {
   "cell_type": "markdown",
   "metadata": {},
   "source": [
    "### Exercice 7 : Ensemble des k-uplets\n",
    "En utilisant le produit cartésien codée ci-dessus, programmez une fonction $kuplets(E,k)$ qui renvoie l'ensemble des k-uplets de l'ensemble $E$.   \n",
    "**Exemple :**\n",
    ">*E=[1,2,3,4]   \n",
    ">kuplets(E,2)  \n",
    "[(1, 1), (1, 2), (1, 3), (1, 4), (2, 1), (2, 2), (2, 3), (2, 4), (3, 1), (3, 2), (3, 3), (3, 4), (4, 1), (4, 2), (4, 3), (4, 4)]*\n"
   ]
  },
  {
   "cell_type": "code",
   "execution_count": null,
   "metadata": {},
   "outputs": [],
   "source": [
    "#Votre code ici"
   ]
  },
  {
   "cell_type": "markdown",
   "metadata": {},
   "source": [
    "### Exercice 8 : Ensemble des k-arrangements\n",
    "Codez la fonction $karrangements(E,k)$ qui renvoie l'ensemble des k-arrangements de l'ensemble $E$, soit les k-uplets d'éléments distincts de E.   \n",
    "**Indice :** On pourra remarquer que l'ensemble des k-arrangements de E est l'ensemble des k-uplets de E privé de tous les éléments comportant des doublons...   \n",
    "**Exemple :** Avec la même définition de l'ensemble E\n",
    ">*karrangements(E,2)   \n",
    "[(1, 2), (1, 3), (1, 4), (2, 1), (2, 3), (2, 4), (3, 1), (3, 2), (3, 4), (4, 1), (4, 2), (4, 3)]*"
   ]
  },
  {
   "cell_type": "code",
   "execution_count": null,
   "metadata": {},
   "outputs": [],
   "source": [
    "# Votre code ici"
   ]
  },
  {
   "cell_type": "markdown",
   "metadata": {},
   "source": [
    "### Exercice 9 : Ensemble des permutations.\n",
    "Codez la fonction $permutations(E)$ qui renvoie l'ensemble des permutations de l'ensemble $E$.  \n",
    "**Exemple :** \n",
    ">*F=[1,2,3]   \n",
    ">permutations(F)   \n",
    "[(1, 2, 3), (1, 3, 2), (2, 1, 3), (2, 3, 1), (3, 1, 2), (3, 2, 1)]*\n",
    "\n"
   ]
  },
  {
   "cell_type": "code",
   "execution_count": null,
   "metadata": {},
   "outputs": [],
   "source": [
    "#Votre code ici"
   ]
  },
  {
   "cell_type": "markdown",
   "metadata": {},
   "source": [
    "### Exercice 10 : Code d'accès.\n",
    "Le code d'accès à un immeuble est constitué d'une lettre A,B ou C et d'un nombre à 5 chiffres, tous distincts.  \n",
    "1) Combien de codes existent? Créer l'ensemble correspondant et déterminer son cardinal.   \n",
    "2) Les touches A,3 et 7 du digicode sont très usées et semblent faire partie du code d'accès. Créer l'ensemble de tous les codes pouvant convenir et déterminer son cardinal."
   ]
  },
  {
   "cell_type": "code",
   "execution_count": null,
   "metadata": {},
   "outputs": [],
   "source": [
    "#Votre code ici"
   ]
  }
 ],
 "metadata": {
  "kernelspec": {
   "display_name": "Python 3",
   "language": "python",
   "name": "python3"
  },
  "language_info": {
   "codemirror_mode": {
    "name": "ipython",
    "version": 3
   },
   "file_extension": ".py",
   "mimetype": "text/x-python",
   "name": "python",
   "nbconvert_exporter": "python",
   "pygments_lexer": "ipython3",
   "version": "3.7.6"
  }
 },
 "nbformat": 4,
 "nbformat_minor": 4
}
